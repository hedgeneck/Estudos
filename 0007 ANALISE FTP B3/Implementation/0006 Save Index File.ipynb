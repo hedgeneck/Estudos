{
 "cells": [
  {
   "cell_type": "code",
   "execution_count": 1,
   "metadata": {},
   "outputs": [],
   "source": [
    "import pandas as pd\n",
    "import numpy as np"
   ]
  },
  {
   "cell_type": "code",
   "execution_count": 2,
   "metadata": {},
   "outputs": [],
   "source": [
    "f = open('../../data/b3/NEG_BMF_20191126.TXT','r')"
   ]
  },
  {
   "cell_type": "code",
   "execution_count": 3,
   "metadata": {},
   "outputs": [],
   "source": [
    "# A primeira tarefa é ler o número de linhas do arquivo\n",
    "# https://appdividend.com/2019/02/03/how-to-convert-python-string-to-int-and-int-to-string/\n",
    "f.seek(45)\n",
    "nlines = int(f.read(9))-2 # desconta cabeçalho e rodapé"
   ]
  },
  {
   "cell_type": "code",
   "execution_count": 4,
   "metadata": {},
   "outputs": [
    {
     "data": {
      "text/plain": [
       "['', 0, 0]"
      ]
     },
     "execution_count": 4,
     "metadata": {},
     "output_type": "execute_result"
    }
   ],
   "source": [
    "# O segundo passo é iterar o arquivo e criar o index.\n",
    "f.seek(55)\n",
    "data = []\n",
    "\n",
    "ticker = ''\n",
    "nstart = 0\n",
    "nend = 0\n",
    "for nline in range(nlines):\n",
    "    line = f.readline() # aqui já atualiza a posição do seek\n",
    "    ticker_ = line[11:61]\n",
    "    if ticker_ != ticker:\n",
    "        data.append([ticker, nstart, nend])\n",
    "        ticker = ticker_\n",
    "        nstart = nline\n",
    "    nend = nline\n",
    "data.pop(0) # remove o primeiro item que é garbage"
   ]
  },
  {
   "cell_type": "code",
   "execution_count": 31,
   "metadata": {},
   "outputs": [],
   "source": [
    "# Cria um dataframe com os dados do index\n",
    "idf = pd.DataFrame(data, columns=['Ticker', 'Linicial', 'Lfinal'])\n",
    "# https://stackoverflow.com/questions/37351183/how-to-parse-all-the-values-in-a-column-of-a-dataframe\n",
    "idf['Ticker'] = idf.Ticker.str.replace(' ','')\n",
    "# Antes de transformar a coluna Ticker em Index do dataframe, precisamos dar um parse para remover espaços em branco\n",
    "idf = idf.set_index('Ticker')\n",
    "# https://stackoverflow.com/questions/22211737/how-to-sort-a-pandas-dataframe-by-index\n",
    "idf.sort_index(inplace=True)\n",
    "idf.to_csv('index.txt', header=None, sep=' ', mode='w')"
   ]
  },
  {
   "cell_type": "code",
   "execution_count": 35,
   "metadata": {
    "scrolled": true
   },
   "outputs": [
    {
     "data": {
      "text/html": [
       "<div>\n",
       "<style scoped>\n",
       "    .dataframe tbody tr th:only-of-type {\n",
       "        vertical-align: middle;\n",
       "    }\n",
       "\n",
       "    .dataframe tbody tr th {\n",
       "        vertical-align: top;\n",
       "    }\n",
       "\n",
       "    .dataframe thead th {\n",
       "        text-align: right;\n",
       "    }\n",
       "</style>\n",
       "<table border=\"1\" class=\"dataframe\">\n",
       "  <thead>\n",
       "    <tr style=\"text-align: right;\">\n",
       "      <th></th>\n",
       "      <th>Linicial</th>\n",
       "      <th>Lfinal</th>\n",
       "    </tr>\n",
       "    <tr>\n",
       "      <th>Ticker</th>\n",
       "      <th></th>\n",
       "      <th></th>\n",
       "    </tr>\n",
       "  </thead>\n",
       "  <tbody>\n",
       "    <tr>\n",
       "      <th>INDZ19</th>\n",
       "      <td>822900</td>\n",
       "      <td>842247</td>\n",
       "    </tr>\n",
       "    <tr>\n",
       "      <th>INDZ19</th>\n",
       "      <td>613</td>\n",
       "      <td>6985</td>\n",
       "    </tr>\n",
       "  </tbody>\n",
       "</table>\n",
       "</div>"
      ],
      "text/plain": [
       "        Linicial  Lfinal\n",
       "Ticker                  \n",
       "INDZ19    822900  842247\n",
       "INDZ19       613    6985"
      ]
     },
     "execution_count": 35,
     "metadata": {},
     "output_type": "execute_result"
    }
   ],
   "source": [
    "idf.loc['INDZ19']"
   ]
  },
  {
   "cell_type": "code",
   "execution_count": null,
   "metadata": {},
   "outputs": [],
   "source": [
    "# Próximos passos:\n",
    "# 1) Open Index File\n",
    "# 2) Open file using index file"
   ]
  }
 ],
 "metadata": {
  "kernelspec": {
   "display_name": "Python 3",
   "language": "python",
   "name": "python3"
  },
  "language_info": {
   "codemirror_mode": {
    "name": "ipython",
    "version": 3
   },
   "file_extension": ".py",
   "mimetype": "text/x-python",
   "name": "python",
   "nbconvert_exporter": "python",
   "pygments_lexer": "ipython3",
   "version": "3.7.1"
  }
 },
 "nbformat": 4,
 "nbformat_minor": 2
}
