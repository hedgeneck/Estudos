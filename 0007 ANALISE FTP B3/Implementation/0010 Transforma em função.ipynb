{
 "cells": [
  {
   "cell_type": "code",
   "execution_count": 10,
   "metadata": {},
   "outputs": [],
   "source": [
    "import pandas as pd\n",
    "import numpy as np\n",
    "import datetime as dt"
   ]
  },
  {
   "cell_type": "code",
   "execution_count": null,
   "metadata": {},
   "outputs": [],
   "source": [
    "# Eu gostaria de transformar em função todo esse raciocínio que eu fiz, eu entraria com o ticker, com a data e\n",
    "# ele retornaria o Book de Negociações bneg"
   ]
  },
  {
   "cell_type": "code",
   "execution_count": 15,
   "metadata": {},
   "outputs": [],
   "source": [
    "def open_NEG_Book(file, index, ticker):\n",
    "    f = open('../../data/b3/' + file,'r')\n",
    "    i = pd.read_csv('../../data/b3/' + index, header = None, sep = ' ', index_col = 0, \\\n",
    "                names = ['Linicial', 'Lfinal'])\n",
    "    \n",
    "    Linicial = i.loc[ticker].iloc[0]['Linicial']\n",
    "    Lfinal = i.loc[ticker].iloc[0]['Lfinal']\n",
    "    \n",
    "    f.seek(23)\n",
    "    dia = f.read(10)\n",
    "\n",
    "    start = 55\n",
    "    linesize = 238\n",
    "\n",
    "    data = []\n",
    "\n",
    "    for line_n in range(Linicial, Lfinal+1):\n",
    "        f.seek(start+line_n*linesize)\n",
    "        line = f.readline()\n",
    "        # Preço, Quantidade, Time\n",
    "        data.append([ \\\n",
    "            line[74:74+19], \\\n",
    "            line[94:94+18], \\\n",
    "            dia + ' ' + line[113:113+12], \\\n",
    "            line[220:220+8], \\\n",
    "            line[229:229+8]\n",
    "        ])\n",
    "    \n",
    "    bneg = pd.DataFrame(data, columns=['Price', 'Quant', 'Timestamp', 'CCompra', 'CVenda'])\n",
    "    bneg['Price'] = bneg['Price'].astype(float)\n",
    "    bneg['Quant'] = bneg['Quant'].astype(int)\n",
    "    bneg['CCompra'] = bneg['CCompra'].astype(int)\n",
    "    bneg['CVenda'] = bneg['CVenda'].astype(int)\n",
    "    bneg['Timestamp'] = pd.to_datetime(bneg['Timestamp'], format='%Y-%m-%d %H:%M:%S.%f')\n",
    "    bneg = bneg.set_index('Timestamp')\n",
    "    \n",
    "    cc = pd.read_csv('../../data/b3/Codigos_Corretoras.txt', header = None, sep = ';', \\\n",
    "                    names = ['Nome', 'Codigo'])\n",
    "    cc['Codigo'] = cc['Codigo'].astype(int)\n",
    "    cc = cc.set_index('Codigo')\n",
    "    \n",
    "    bneg = bneg.join(cc, on = 'CCompra')\n",
    "    bneg = bneg.rename(columns={\"Nome\": \"Corretora Compra\"})\n",
    "    bneg = bneg.join(cc, on = 'CVenda')\n",
    "    bneg = bneg.rename(columns={\"Nome\": \"Corretora Venda\"})\n",
    "    \n",
    "    return bneg"
   ]
  },
  {
   "cell_type": "code",
   "execution_count": 17,
   "metadata": {},
   "outputs": [],
   "source": [
    "bneg = open_NEG_Book('NEG_BMF_20191126.TXT', 'NEG_BMF_20191126_index.TXT', 'INDZ19')"
   ]
  },
  {
   "cell_type": "code",
   "execution_count": 89,
   "metadata": {},
   "outputs": [],
   "source": [
    "# aqui eu salvo um arquivo de log para analisar com mais calma\n",
    "bneg.to_csv('book.txt', sep = '\\t', mode = 'w')"
   ]
  }
 ],
 "metadata": {
  "kernelspec": {
   "display_name": "Python 3",
   "language": "python",
   "name": "python3"
  },
  "language_info": {
   "codemirror_mode": {
    "name": "ipython",
    "version": 3
   },
   "file_extension": ".py",
   "mimetype": "text/x-python",
   "name": "python",
   "nbconvert_exporter": "python",
   "pygments_lexer": "ipython3",
   "version": "3.7.1"
  }
 },
 "nbformat": 4,
 "nbformat_minor": 2
}
