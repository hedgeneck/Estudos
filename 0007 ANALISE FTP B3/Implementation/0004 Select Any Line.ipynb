{
 "cells": [
  {
   "cell_type": "code",
   "execution_count": 66,
   "metadata": {},
   "outputs": [],
   "source": [
    "f = open('../../data/b3/NEG_BMF_20191126.TXT','r')"
   ]
  },
  {
   "cell_type": "code",
   "execution_count": 67,
   "metadata": {},
   "outputs": [
    {
     "data": {
      "text/plain": [
       "618959332"
      ]
     },
     "execution_count": 67,
     "metadata": {},
     "output_type": "execute_result"
    }
   ],
   "source": [
    "# Lembrar parâmetros de seek\n",
    "# SEEK_SET or 0 – start of the stream (the default); offset should be zero or positive\n",
    "# SEEK_CUR or 1 – current stream position; offset may be negative\n",
    "# SEEK_END or 2 – end of the stream; offset is usually negative\n",
    "# o defaul é SEEK_CUR = 1\n",
    "f.seek(0,2)"
   ]
  },
  {
   "cell_type": "raw",
   "metadata": {},
   "source": [
    "Cabeçalho/Rodapé corrigidos\n",
    "-----------------------------------------------------------\n",
    "Coluna                 Posição Inicial  Tamanho   Descrição\n",
    "-----------------------------------------------------------\n",
    "Identificação                        0        2   RH Cabeçalho - RT Rodapé\n",
    "Nome Arquivo                         3       19   Nome do arquivo\n",
    "Data Inicial                        23       10   Data Inicial desse arquivo\n",
    "Data Final                          34       10   Data Final desse arquivo\n",
    "Total de Linhas                     45        9   Tanto no rodapé quando no cabeçalho apresenta o total de linhas do arquivo\n",
    "Tamanho Linha                                55   Contando o \\n"
   ]
  },
  {
   "cell_type": "code",
   "execution_count": null,
   "metadata": {},
   "outputs": [],
   "source": [
    "# O Total de Linhas é o total de dados, + o cabeçalho, + o rodapé. Não inclui aquela última linhazinha depois do rodapé sem nada"
   ]
  },
  {
   "cell_type": "code",
   "execution_count": 105,
   "metadata": {},
   "outputs": [
    {
     "data": {
      "text/plain": [
       "'RH NEG                 2019-11-26 2019-11-26 002600671\\n'"
      ]
     },
     "execution_count": 105,
     "metadata": {},
     "output_type": "execute_result"
    }
   ],
   "source": [
    "# lê todo o cabeçalho incluindo o /n\n",
    "f.seek(0)\n",
    "f.read(55)"
   ]
  },
  {
   "cell_type": "code",
   "execution_count": 98,
   "metadata": {
    "scrolled": true
   },
   "outputs": [
    {
     "data": {
      "text/plain": [
       "'2019-11-26;DOLF20                                            ;0000000010; 000000004257.000000;000000000000000005;09:02:55.557;1;2019-11-26;000743553075807;000000043553882;2;2019-11-26;000743553072928;000000043553883;2;0;00000093;00000003\\n'"
      ]
     },
     "execution_count": 98,
     "metadata": {},
     "output_type": "execute_result"
    }
   ],
   "source": [
    "# vai até a primeira linha de dados e lê toda, incluindo o \\n\n",
    "f.seek(55)\n",
    "f.read(238)"
   ]
  },
  {
   "cell_type": "code",
   "execution_count": 104,
   "metadata": {},
   "outputs": [
    {
     "data": {
      "text/plain": [
       "'2019-11-26;DOLF20                                            ;0000000240; 000000004251.500000;000000000000000005;09:20:28.967;1;2019-11-26;000743553558278;000000044629358;1;2019-11-26;000743553549916;000000044629359;2;0;00000107;00000003\\n'"
      ]
     },
     "execution_count": 104,
     "metadata": {},
     "output_type": "execute_result"
    }
   ],
   "source": [
    "# o f.read vai atualizando a posição do pointer do arquivo\n",
    "f.read(238)"
   ]
  },
  {
   "cell_type": "raw",
   "metadata": {},
   "source": [
    "Detalhes\n",
    "-----------------------------------------------------------\n",
    "Coluna                 Posição Inicial  Tamanho   Descrição\n",
    "-----------------------------------------------------------\n",
    "Data Sessão                          0       10   Data de sessão\n",
    "Símbolo do Instrumento              11       50   Símbolo do Instrumento\n",
    "Nr.Negócio                          62       10   Número do negócio\n",
    "Preço Negócio                       74       19   Preço do negócio\n",
    "Quantidade                          94       18   Quantidade negociada\n",
    "Hora                               113       12   Horário da negociação (formato HH:MM:SS.NNN)\n",
    "Ind.Anulação                       126        1   Indicador de Anulação: \"1\" - ativo / \"2\" - cancelado\n",
    "Data Oferta Compra                 128       10   Data da oferta de compra\n",
    "Seq.Oferta Compra                  139       15   Número sequencial da oferta de compra\n",
    "GenerationID - Of.Compra           155       15   Número de geração (GenerationID) da Oferta de compra. Quando um negócio for gerado por 2 ofertas com quantidade escondida e isso gerar \"n\" linhas será gravado aqui a maior geração\n",
    "Condição Oferta de Compra          171        1   Código que identifica a condição da oferta de compra. Pode ser: 0 - Oferta Neutra - é aquela que entra no mercado e não fecha com oferta existente. / 1 - Oferta Agressora - é aquela que ingressa no mercado para fechar com uma oferta existente. / 2 - Oferta Agredida - é a oferta (existente) que é fechada com uma oferta agressora.\n",
    "Data Oferta Venda                  173       10   Data da oferta de venda\n",
    "Seq.Oferta Venda                   184       15   Número sequencial da oferta de venda\n",
    "GenerationID - Of.Venda            200       15   Número de geração (GenerationID) da Oferta de venda. Quando um negócio for gerado por 2 ofertas com quantidade escondida e isso gerar \"n\" linhas será gravado aqui a maior geração\n",
    "Condição Oferta de Venda           216        1   Código que identifica a condição da oferta de venda. Pode ser: 0 - Oferta Neutra - é aquela que entra no mercado e não fecha com oferta existente. / 1 - Oferta Agressora - é aquela que ingressa no mercado para fechar com uma oferta existente. / 2 - Oferta Agredida - é a oferta (existente) que é fechada com uma oferta agressora.\n",
    "Indicador de direto                218        1   Código que identifica se o negócio direto foi intencional: 1 - Intencional / 0 - Não Intencional\n",
    "Corretora Compra                   220        8   Código de identificação da corretora de compra - Disponível a partir de 03/2014\n",
    "Corretora Venda                    229        8   Código de identificação da corretora de venda - Disponível a partir de 03/2014\n",
    "Tamanho Linha                               238   Contando o \\n"
   ]
  },
  {
   "cell_type": "code",
   "execution_count": 108,
   "metadata": {},
   "outputs": [
    {
     "data": {
      "text/plain": [
       "'2019-11-26'"
      ]
     },
     "execution_count": 108,
     "metadata": {},
     "output_type": "execute_result"
    }
   ],
   "source": [
    "# lê por exemplo, a Data Oferta Venda, da linha 0\n",
    "start = 55\n",
    "f.seek(start+173)\n",
    "f.read(10)"
   ]
  },
  {
   "cell_type": "code",
   "execution_count": 115,
   "metadata": {},
   "outputs": [
    {
     "data": {
      "text/plain": [
       "'DOLF20                                            '"
      ]
     },
     "execution_count": 115,
     "metadata": {},
     "output_type": "execute_result"
    }
   ],
   "source": [
    "# lê por exemplo, o símbolo, da linha 10\n",
    "start = 55\n",
    "linenb = 10\n",
    "linesize = 238\n",
    "f.seek(start+linenb*linesize+11)\n",
    "f.read(50)"
   ]
  }
 ],
 "metadata": {
  "kernelspec": {
   "display_name": "Python 3",
   "language": "python",
   "name": "python3"
  },
  "language_info": {
   "codemirror_mode": {
    "name": "ipython",
    "version": 3
   },
   "file_extension": ".py",
   "mimetype": "text/x-python",
   "name": "python",
   "nbconvert_exporter": "python",
   "pygments_lexer": "ipython3",
   "version": "3.7.1"
  }
 },
 "nbformat": 4,
 "nbformat_minor": 2
}
