{
 "cells": [
  {
   "cell_type": "code",
   "execution_count": 1,
   "metadata": {},
   "outputs": [],
   "source": [
    "import pandas as pd\n",
    "import numpy as np"
   ]
  },
  {
   "cell_type": "code",
   "execution_count": 2,
   "metadata": {},
   "outputs": [],
   "source": [
    "f = open('../../data/b3/NEG_BMF_20191126.TXT','r')"
   ]
  },
  {
   "cell_type": "code",
   "execution_count": 3,
   "metadata": {},
   "outputs": [],
   "source": [
    "# A primeira tarefa é ler o número de linhas do arquivo\n",
    "# https://appdividend.com/2019/02/03/how-to-convert-python-string-to-int-and-int-to-string/\n",
    "f.seek(45)\n",
    "nlines = int(f.read(9))-2 # desconta cabeçalho e rodapé"
   ]
  },
  {
   "cell_type": "code",
   "execution_count": 4,
   "metadata": {},
   "outputs": [
    {
     "data": {
      "text/plain": [
       "['', 0, 0]"
      ]
     },
     "execution_count": 4,
     "metadata": {},
     "output_type": "execute_result"
    }
   ],
   "source": [
    "# O segundo passo é iterar o arquivo e criar o index.\n",
    "f.seek(55)\n",
    "data = []\n",
    "\n",
    "ticker = ''\n",
    "nstart = 0\n",
    "nend = 0\n",
    "for nline in range(nlines):\n",
    "    line = f.readline() # aqui já atualiza a posição do seek\n",
    "    ticker_ = line[11:61]\n",
    "    if ticker_ != ticker:\n",
    "        data.append([ticker, nstart, nend])\n",
    "        ticker = ticker_\n",
    "        nstart = nline\n",
    "    nend = nline\n",
    "data.pop(0) # remove o primeiro item que é garbage"
   ]
  },
  {
   "cell_type": "code",
   "execution_count": 5,
   "metadata": {},
   "outputs": [],
   "source": [
    "# Cria um dataframe com os dados do index\n",
    "idf = pd.DataFrame(data, columns=['Ticker', 'Linicial', 'Lfinal'])\n",
    "# https://stackoverflow.com/questions/37351183/how-to-parse-all-the-values-in-a-column-of-a-dataframe\n",
    "idf['Ticker'] = idf.Ticker.str.replace(' ','')\n",
    "# Antes de transformar a coluna Ticker em Index do dataframe, precisamos dar um parse para remover espaços em branco\n",
    "idf = idf.set_index('Ticker')\n",
    "# https://stackoverflow.com/questions/22211737/how-to-sort-a-pandas-dataframe-by-index\n",
    "idf.sort_index(inplace=True)\n",
    "idf.to_csv('index.txt', header=None, sep=' ', mode='w')"
   ]
  },
  {
   "cell_type": "code",
   "execution_count": 15,
   "metadata": {
    "scrolled": true
   },
   "outputs": [],
   "source": [
    "# uso do long line break\n",
    "# https://doingmathwithpython.github.io/breaking-long-lines-in-python.html\n",
    "# ter em mente os parâmetros de read_csv\n",
    "# https://pandas.pydata.org/pandas-docs/stable/reference/api/pandas.read_csv.html\n",
    "\n",
    "i = pd.read_csv('../../data/b3/NEG_BMF_20191126_index.TXT', header = None, sep = ' ', index_col = 0, \\\n",
    "                names = ['Linicial', 'Lfinal'])"
   ]
  },
  {
   "cell_type": "code",
   "execution_count": 22,
   "metadata": {},
   "outputs": [
    {
     "data": {
      "text/plain": [
       "1233028"
      ]
     },
     "execution_count": 22,
     "metadata": {},
     "output_type": "execute_result"
    }
   ],
   "source": [
    "i.loc['WINZ19'].iloc[0]['Linicial']"
   ]
  },
  {
   "cell_type": "code",
   "execution_count": 23,
   "metadata": {},
   "outputs": [
    {
     "data": {
      "text/plain": [
       "2600592"
      ]
     },
     "execution_count": 23,
     "metadata": {},
     "output_type": "execute_result"
    }
   ],
   "source": [
    "i.loc['WINZ19'].iloc[0]['Lfinal']"
   ]
  },
  {
   "cell_type": "code",
   "execution_count": null,
   "metadata": {},
   "outputs": [],
   "source": [
    "# Próximos passos:\n",
    "# 1) Open Index File\n",
    "# 2) Open file using index file"
   ]
  }
 ],
 "metadata": {
  "kernelspec": {
   "display_name": "Python 3",
   "language": "python",
   "name": "python3"
  },
  "language_info": {
   "codemirror_mode": {
    "name": "ipython",
    "version": 3
   },
   "file_extension": ".py",
   "mimetype": "text/x-python",
   "name": "python",
   "nbconvert_exporter": "python",
   "pygments_lexer": "ipython3",
   "version": "3.7.1"
  }
 },
 "nbformat": 4,
 "nbformat_minor": 2
}
