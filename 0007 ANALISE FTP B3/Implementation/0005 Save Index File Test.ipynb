{
 "cells": [
  {
   "cell_type": "code",
   "execution_count": 43,
   "metadata": {},
   "outputs": [],
   "source": [
    "import pandas as pd\n",
    "import numpy as np"
   ]
  },
  {
   "cell_type": "code",
   "execution_count": 17,
   "metadata": {},
   "outputs": [],
   "source": [
    "f = open('../../data/b3/NEG_BMF_20191126.TXT','r')"
   ]
  },
  {
   "cell_type": "code",
   "execution_count": 10,
   "metadata": {},
   "outputs": [],
   "source": [
    "# A primeira tarefa é ler o número de linhas do arquivo\n",
    "# https://appdividend.com/2019/02/03/how-to-convert-python-string-to-int-and-int-to-string/\n",
    "f.seek(45)\n",
    "nlines = int(f.read(9))-2 # desconta cabeçalho e rodapé"
   ]
  },
  {
   "cell_type": "code",
   "execution_count": 27,
   "metadata": {},
   "outputs": [],
   "source": [
    "# O segundo passo é criar um sample bem menor, para que possamos realizar alguns ensaios\n",
    "of = open('output.txt','w')\n",
    "\n",
    "start = 55\n",
    "linesize = 238\n",
    "\n",
    "for count in range(0,nlines-1,100): # o -1 é para descartar o rodapé\n",
    "    f.seek(start+count*10*linesize+0) # + 0 pois vai ler a linha toda, apenas para não perder o padrão da fórmula\n",
    "    line = f.readline()\n",
    "    of.write(line)\n",
    "\n",
    "of.close()\n",
    "# depois de rodar essa celula, copiar manualmente o output.txt, pra pasta data/samples, mudar o nome. "
   ]
  },
  {
   "cell_type": "code",
   "execution_count": 122,
   "metadata": {},
   "outputs": [],
   "source": [
    "s = open('../../data/samples/sample2.txt','r')"
   ]
  },
  {
   "cell_type": "code",
   "execution_count": 129,
   "metadata": {},
   "outputs": [
    {
     "data": {
      "text/plain": [
       "['', 0, 0]"
      ]
     },
     "execution_count": 129,
     "metadata": {},
     "output_type": "execute_result"
    }
   ],
   "source": [
    "# O terceiro passo é iterar o arquivo (no nosso caso no sample s) e ir criando o index.\n",
    "# Sempre lembrar da diferença entre break e continue https://www.programiz.com/python-programming/break-continue\n",
    "s.seek(0)\n",
    "data = []\n",
    "\n",
    "ticker = ''\n",
    "nstart = 0\n",
    "nend = 0\n",
    "for nline in range(1000):\n",
    "    line = s.readline() # aqui já atualiza a posição do seek\n",
    "    ticker_ = line[11:61]\n",
    "    if ticker_ != ticker:\n",
    "        data.append([ticker, nstart, nend])\n",
    "        ticker = ticker_\n",
    "        nstart = nline\n",
    "    nend = nline\n",
    "data.pop(0) # remove o primeiro item que é garbage"
   ]
  },
  {
   "cell_type": "code",
   "execution_count": 136,
   "metadata": {},
   "outputs": [],
   "source": [
    "# agora transforma num dataframe e salva esse index\n",
    "index_df = pd.DataFrame(data, columns=['Ticker', 'Linicial', 'Lfinal'])\n",
    "index_df.to_csv('index.txt', header=None, index=None, sep=' ', mode='w')"
   ]
  },
  {
   "cell_type": "code",
   "execution_count": 137,
   "metadata": {},
   "outputs": [
    {
     "data": {
      "text/html": [
       "<div>\n",
       "<style scoped>\n",
       "    .dataframe tbody tr th:only-of-type {\n",
       "        vertical-align: middle;\n",
       "    }\n",
       "\n",
       "    .dataframe tbody tr th {\n",
       "        vertical-align: top;\n",
       "    }\n",
       "\n",
       "    .dataframe thead th {\n",
       "        text-align: right;\n",
       "    }\n",
       "</style>\n",
       "<table border=\"1\" class=\"dataframe\">\n",
       "  <thead>\n",
       "    <tr style=\"text-align: right;\">\n",
       "      <th></th>\n",
       "      <th>Ticker</th>\n",
       "      <th>Linicial</th>\n",
       "      <th>Lfinal</th>\n",
       "    </tr>\n",
       "  </thead>\n",
       "  <tbody>\n",
       "    <tr>\n",
       "      <th>0</th>\n",
       "      <td>DOLF20                                        ...</td>\n",
       "      <td>0</td>\n",
       "      <td>0</td>\n",
       "    </tr>\n",
       "    <tr>\n",
       "      <th>1</th>\n",
       "      <td>INDZ19                                        ...</td>\n",
       "      <td>1</td>\n",
       "      <td>6</td>\n",
       "    </tr>\n",
       "    <tr>\n",
       "      <th>2</th>\n",
       "      <td>WINZ19                                        ...</td>\n",
       "      <td>7</td>\n",
       "      <td>574</td>\n",
       "    </tr>\n",
       "    <tr>\n",
       "      <th>3</th>\n",
       "      <td>DI1G20                                        ...</td>\n",
       "      <td>575</td>\n",
       "      <td>575</td>\n",
       "    </tr>\n",
       "    <tr>\n",
       "      <th>4</th>\n",
       "      <td>WDOZ19                                        ...</td>\n",
       "      <td>576</td>\n",
       "      <td>692</td>\n",
       "    </tr>\n",
       "    <tr>\n",
       "      <th>5</th>\n",
       "      <td>DOLZ19                                        ...</td>\n",
       "      <td>693</td>\n",
       "      <td>706</td>\n",
       "    </tr>\n",
       "    <tr>\n",
       "      <th>6</th>\n",
       "      <td>CCMH20                                        ...</td>\n",
       "      <td>707</td>\n",
       "      <td>707</td>\n",
       "    </tr>\n",
       "    <tr>\n",
       "      <th>7</th>\n",
       "      <td>DI1F27                                        ...</td>\n",
       "      <td>708</td>\n",
       "      <td>709</td>\n",
       "    </tr>\n",
       "    <tr>\n",
       "      <th>8</th>\n",
       "      <td>DI1F22                                        ...</td>\n",
       "      <td>710</td>\n",
       "      <td>711</td>\n",
       "    </tr>\n",
       "    <tr>\n",
       "      <th>9</th>\n",
       "      <td>DI1F20                                        ...</td>\n",
       "      <td>712</td>\n",
       "      <td>712</td>\n",
       "    </tr>\n",
       "    <tr>\n",
       "      <th>10</th>\n",
       "      <td>DI1F21                                        ...</td>\n",
       "      <td>713</td>\n",
       "      <td>715</td>\n",
       "    </tr>\n",
       "    <tr>\n",
       "      <th>11</th>\n",
       "      <td>DI1F25                                        ...</td>\n",
       "      <td>716</td>\n",
       "      <td>717</td>\n",
       "    </tr>\n",
       "    <tr>\n",
       "      <th>12</th>\n",
       "      <td>DI1F23                                        ...</td>\n",
       "      <td>718</td>\n",
       "      <td>719</td>\n",
       "    </tr>\n",
       "    <tr>\n",
       "      <th>13</th>\n",
       "      <td>DI1N20                                        ...</td>\n",
       "      <td>720</td>\n",
       "      <td>720</td>\n",
       "    </tr>\n",
       "    <tr>\n",
       "      <th>14</th>\n",
       "      <td>BGIZ19                                        ...</td>\n",
       "      <td>721</td>\n",
       "      <td>721</td>\n",
       "    </tr>\n",
       "    <tr>\n",
       "      <th>15</th>\n",
       "      <td>CCMF20                                        ...</td>\n",
       "      <td>722</td>\n",
       "      <td>722</td>\n",
       "    </tr>\n",
       "    <tr>\n",
       "      <th>16</th>\n",
       "      <td>DI1F21                                        ...</td>\n",
       "      <td>723</td>\n",
       "      <td>729</td>\n",
       "    </tr>\n",
       "    <tr>\n",
       "      <th>17</th>\n",
       "      <td>DI1F22                                        ...</td>\n",
       "      <td>730</td>\n",
       "      <td>736</td>\n",
       "    </tr>\n",
       "    <tr>\n",
       "      <th>18</th>\n",
       "      <td>DI1F23                                        ...</td>\n",
       "      <td>737</td>\n",
       "      <td>747</td>\n",
       "    </tr>\n",
       "    <tr>\n",
       "      <th>19</th>\n",
       "      <td>DI1F24                                        ...</td>\n",
       "      <td>748</td>\n",
       "      <td>748</td>\n",
       "    </tr>\n",
       "    <tr>\n",
       "      <th>20</th>\n",
       "      <td>DI1F25                                        ...</td>\n",
       "      <td>749</td>\n",
       "      <td>754</td>\n",
       "    </tr>\n",
       "    <tr>\n",
       "      <th>21</th>\n",
       "      <td>DI1F27                                        ...</td>\n",
       "      <td>755</td>\n",
       "      <td>758</td>\n",
       "    </tr>\n",
       "    <tr>\n",
       "      <th>22</th>\n",
       "      <td>DI1F29                                        ...</td>\n",
       "      <td>759</td>\n",
       "      <td>759</td>\n",
       "    </tr>\n",
       "    <tr>\n",
       "      <th>23</th>\n",
       "      <td>DI1J20                                        ...</td>\n",
       "      <td>760</td>\n",
       "      <td>760</td>\n",
       "    </tr>\n",
       "    <tr>\n",
       "      <th>24</th>\n",
       "      <td>DI1J21                                        ...</td>\n",
       "      <td>761</td>\n",
       "      <td>761</td>\n",
       "    </tr>\n",
       "    <tr>\n",
       "      <th>25</th>\n",
       "      <td>DI1N20                                        ...</td>\n",
       "      <td>762</td>\n",
       "      <td>768</td>\n",
       "    </tr>\n",
       "    <tr>\n",
       "      <th>26</th>\n",
       "      <td>DI1N21                                        ...</td>\n",
       "      <td>769</td>\n",
       "      <td>770</td>\n",
       "    </tr>\n",
       "    <tr>\n",
       "      <th>27</th>\n",
       "      <td>DI1N22                                        ...</td>\n",
       "      <td>771</td>\n",
       "      <td>771</td>\n",
       "    </tr>\n",
       "    <tr>\n",
       "      <th>28</th>\n",
       "      <td>DI1N23                                        ...</td>\n",
       "      <td>772</td>\n",
       "      <td>772</td>\n",
       "    </tr>\n",
       "    <tr>\n",
       "      <th>29</th>\n",
       "      <td>DI1V20                                        ...</td>\n",
       "      <td>773</td>\n",
       "      <td>773</td>\n",
       "    </tr>\n",
       "    <tr>\n",
       "      <th>30</th>\n",
       "      <td>DOLZ19                                        ...</td>\n",
       "      <td>774</td>\n",
       "      <td>822</td>\n",
       "    </tr>\n",
       "    <tr>\n",
       "      <th>31</th>\n",
       "      <td>INDZ19                                        ...</td>\n",
       "      <td>823</td>\n",
       "      <td>842</td>\n",
       "    </tr>\n",
       "    <tr>\n",
       "      <th>32</th>\n",
       "      <td>WDOF20                                        ...</td>\n",
       "      <td>843</td>\n",
       "      <td>843</td>\n",
       "    </tr>\n",
       "  </tbody>\n",
       "</table>\n",
       "</div>"
      ],
      "text/plain": [
       "                                               Ticker  Linicial  Lfinal\n",
       "0   DOLF20                                        ...         0       0\n",
       "1   INDZ19                                        ...         1       6\n",
       "2   WINZ19                                        ...         7     574\n",
       "3   DI1G20                                        ...       575     575\n",
       "4   WDOZ19                                        ...       576     692\n",
       "5   DOLZ19                                        ...       693     706\n",
       "6   CCMH20                                        ...       707     707\n",
       "7   DI1F27                                        ...       708     709\n",
       "8   DI1F22                                        ...       710     711\n",
       "9   DI1F20                                        ...       712     712\n",
       "10  DI1F21                                        ...       713     715\n",
       "11  DI1F25                                        ...       716     717\n",
       "12  DI1F23                                        ...       718     719\n",
       "13  DI1N20                                        ...       720     720\n",
       "14  BGIZ19                                        ...       721     721\n",
       "15  CCMF20                                        ...       722     722\n",
       "16  DI1F21                                        ...       723     729\n",
       "17  DI1F22                                        ...       730     736\n",
       "18  DI1F23                                        ...       737     747\n",
       "19  DI1F24                                        ...       748     748\n",
       "20  DI1F25                                        ...       749     754\n",
       "21  DI1F27                                        ...       755     758\n",
       "22  DI1F29                                        ...       759     759\n",
       "23  DI1J20                                        ...       760     760\n",
       "24  DI1J21                                        ...       761     761\n",
       "25  DI1N20                                        ...       762     768\n",
       "26  DI1N21                                        ...       769     770\n",
       "27  DI1N22                                        ...       771     771\n",
       "28  DI1N23                                        ...       772     772\n",
       "29  DI1V20                                        ...       773     773\n",
       "30  DOLZ19                                        ...       774     822\n",
       "31  INDZ19                                        ...       823     842\n",
       "32  WDOF20                                        ...       843     843"
      ]
     },
     "execution_count": 137,
     "metadata": {},
     "output_type": "execute_result"
    }
   ],
   "source": [
    "index_df"
   ]
  },
  {
   "cell_type": "code",
   "execution_count": 93,
   "metadata": {},
   "outputs": [
    {
     "data": {
      "text/plain": [
       "'WINZ19                                            '"
      ]
     },
     "execution_count": 93,
     "metadata": {},
     "output_type": "execute_result"
    }
   ],
   "source": [
    "line[11:61]"
   ]
  },
  {
   "cell_type": "code",
   "execution_count": 133,
   "metadata": {},
   "outputs": [
    {
     "data": {
      "text/plain": [
       "False"
      ]
     },
     "execution_count": 133,
     "metadata": {},
     "output_type": "execute_result"
    }
   ],
   "source": [
    "ticker = ''\n",
    "ticker_ = line[11:61]\n",
    "a = ''\n",
    "b = 'WINZ19                                            '\n",
    "ticker == a # true"
   ]
  },
  {
   "cell_type": "code",
   "execution_count": 106,
   "metadata": {},
   "outputs": [
    {
     "data": {
      "text/plain": [
       "True"
      ]
     },
     "execution_count": 106,
     "metadata": {},
     "output_type": "execute_result"
    }
   ],
   "source": []
  },
  {
   "cell_type": "code",
   "execution_count": 68,
   "metadata": {},
   "outputs": [],
   "source": [
    "# Teste de como criar um dataframe e escrever ele num arquivo\n",
    "# https://stackoverflow.com/questions/31247198/python-pandas-write-content-of-dataframe-into-text-file\n",
    "# esse df usa dictionaries para iniciar\n",
    "df3 = pd.DataFrame({'A': ['A0', 'A1', 'A2', 'A3'],\n",
    "                    'B': ['B0', 'B1', 'B2', 'B3'],\n",
    "                    'C': ['C0', 'C1', 'C2', 'C3'],\n",
    "                    'D': ['D0', 'D1', 'D2', 'D3']},\n",
    "                    index=[0, 1, 2, 3])\n",
    "\n",
    "#of2 = open('output2.txt','w')\n",
    "#of2.close()\n",
    "# Python raw string is created by prefixing a string literal with ‘r’ or ‘R’. Python raw string treats backslash (\\)\n",
    "# as a literal character. This is useful when we want to have a string that contains backslash and don’t want it to\n",
    "# be treated as an escape character.\n",
    "# r'c:\\data\\np.txt' # vai gerar 'c:\\\\data\\\\np.txt'\n",
    "# np.savetxt('output3.txt', df3.values) na verdade, por ser função do numpy, só serve para array de numeros. Não funciona aqui.\n",
    "\n",
    "# df3.to_csv()\n",
    "# output: ',A,B,C,D\\n0,A0,B0,C0,D0\\n1,A1,B1,C1,D1\\n2,A2,B2,C2,D2\\n3,A3,B3,C3,D3\\n'\n",
    "# df3.to_csv(header=None)\n",
    "# '0,A0,B0,C0,D0\\n1,A1,B1,C1,D1\\n2,A2,B2,C2,D2\\n3,A3,B3,C3,D3\\n'\n",
    "# df3.to_csv(header=None, index=None)\n",
    "# 'A0,B0,C0,D0\\nA1,B1,C1,D1\\nA2,B2,C2,D2\\nA3,B3,C3,D3\\n'\n",
    "# df3.to_csv(header=None, index=None, sep=' ')\n",
    "#'A0 B0 C0 D0\\nA1 B1 C1 D1\\nA2 B2 C2 D2\\nA3 B3 C3 D3\\n'\n",
    "df3.to_csv('output2.txt', header=None, index=None, sep=' ', mode='a')\n",
    "# tinha um bug interessante, o of2 = open('output2.txt','w') zerava o arquivo, então parecia que o append não estava funcionando\n",
    "# preciso refazer o raciocínio dessa cell usando listas"
   ]
  },
  {
   "cell_type": "code",
   "execution_count": 70,
   "metadata": {},
   "outputs": [],
   "source": [
    "# Essa estrutura pode ser usada em loop\n",
    "data = []\n",
    "data.append(['A0', 'A1', 'A2', 'A3'])\n",
    "data.append(['B0', 'B1', 'B2', 'B3'])\n",
    "data.append(['C0', 'C1', 'C2', 'C3'])\n",
    "data.append(['D0', 'D1', 'D2', 'D3'])\n",
    "# esse df usa list para iniciar\n",
    "df4 = pd.DataFrame(data, columns=['A', 'B', 'C', 'D'])\n",
    "\n",
    "# Outra maneira seria\n",
    "# data = [['A0', 'A1', 'A2', 'A3'],\n",
    "#         ['B0', 'B1', 'B2', 'B3'],\n",
    "#         ['C0', 'C1', 'C2', 'C3'],\n",
    "#         ['D0', 'D1', 'D2', 'D3']]\n",
    "# df4 = pd.DataFrame(data, columns=['A', 'B', 'C', 'D'])"
   ]
  },
  {
   "cell_type": "code",
   "execution_count": 69,
   "metadata": {},
   "outputs": [],
   "source": [
    "# Teste de como criar um empty dataframe e depois ir dando append nele\n",
    "# https://stackoverflow.com/questions/13784192/creating-an-empty-pandas-dataframe-then-filling-it\n",
    "# o link acima é importante, é bem melhor e rápido criar uma lista e ir adicionando. Criar o dataframe só no final.\n",
    "# https://pandas.pydata.org/pandas-docs/stable/reference/api/pandas.DataFrame.html"
   ]
  },
  {
   "cell_type": "code",
   "execution_count": 38,
   "metadata": {},
   "outputs": [
    {
     "data": {
      "text/plain": [
       "'2019-'"
      ]
     },
     "execution_count": 38,
     "metadata": {},
     "output_type": "execute_result"
    }
   ],
   "source": [
    "s.seek(0)\n",
    "s.read(5)"
   ]
  },
  {
   "cell_type": "code",
   "execution_count": 26,
   "metadata": {},
   "outputs": [
    {
     "name": "stdout",
     "output_type": "stream",
     "text": [
      "0, 1, 2, 3, 4, 5, 6, 7, 8, 9, "
     ]
    }
   ],
   "source": [
    "#for i in range(1,27,6):\n",
    "#    print(i, end=', ')\n",
    "for i in range(0,10,1):\n",
    "    print(i, end=', ')"
   ]
  },
  {
   "cell_type": "code",
   "execution_count": 20,
   "metadata": {},
   "outputs": [
    {
     "data": {
      "text/plain": [
       "2600671"
      ]
     },
     "execution_count": 20,
     "metadata": {},
     "output_type": "execute_result"
    }
   ],
   "source": [
    "nlines"
   ]
  }
 ],
 "metadata": {
  "kernelspec": {
   "display_name": "Python 3",
   "language": "python",
   "name": "python3"
  },
  "language_info": {
   "codemirror_mode": {
    "name": "ipython",
    "version": 3
   },
   "file_extension": ".py",
   "mimetype": "text/x-python",
   "name": "python",
   "nbconvert_exporter": "python",
   "pygments_lexer": "ipython3",
   "version": "3.7.1"
  }
 },
 "nbformat": 4,
 "nbformat_minor": 2
}
