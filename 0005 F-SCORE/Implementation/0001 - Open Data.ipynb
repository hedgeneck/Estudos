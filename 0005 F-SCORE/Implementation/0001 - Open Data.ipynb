{
 "cells": [
  {
   "cell_type": "code",
   "execution_count": 2,
   "metadata": {},
   "outputs": [],
   "source": [
    "import pandas as pd\n",
    "import numpy as np\n",
    "import datetime as dt\n",
    "import matplotlib.pyplot as plt\n",
    "\n",
    "from pandas.tseries.offsets import CustomBusinessDay"
   ]
  },
  {
   "cell_type": "code",
   "execution_count": 3,
   "metadata": {},
   "outputs": [],
   "source": [
    "def org_columns(df):\n",
    "    '''\n",
    "    Organiza os dataframes, arruma nomes das colunas, remove linhas\n",
    "    e colunas que possuam apenas NAs\n",
    "    '''\n",
    "    tickers = df.columns.str.extract('(.*)$')[0]\n",
    "    df.columns = tickers\n",
    "    df[df.index.str.contains(\"Jan|Feb|Apr|May|Jul|Aug|Oct|Nov\")]=np.NaN\n",
    "    df = df.fillna(method='ffill', limit=2)\n",
    "    df.columns.name = \"ticker\"\n",
    "    return df"
   ]
  },
  {
   "cell_type": "code",
   "execution_count": 42,
   "metadata": {},
   "outputs": [],
   "source": [
    "# 1) Return on Asset (ROA%) for latest FY is > 0 = Score 1\n",
    "# 1) Return on Assets - roa\n",
    "roa_ati = pd.read_excel('../../data/fscore/roa_mensal_ativas.xlsx',\n",
    "                            skiprows = [1,2],\n",
    "                            header=1,\n",
    "                            index_col = 0,\n",
    "                            na_values='-')\n",
    "roa_can = pd.read_excel('../../data/fscore/roa_mensal_canceladas.xlsx',\n",
    "                            skiprows = [1,2],\n",
    "                            header=1,\n",
    "                            index_col = 0,\n",
    "                            na_values='-')\n",
    "roa_can.drop([\"Jan-86\", \"Feb-86\"], inplace=True)\n",
    "roa = pd.concat([roa_ati,roa_can],axis=1,sort=False)\n",
    "roa = org_columns(roa)"
   ]
  },
  {
   "cell_type": "code",
   "execution_count": 44,
   "metadata": {},
   "outputs": [],
   "source": [
    "# 2) Operating Cash Flow for latest FY is > Operating Cash Flow from 1 year ago ( FY-1) = Score 1\n",
    "# 2) Operating Cash Flow - ocf\n",
    "# Fica como lição que sempre que for fazer uma função para abrir um arquivo, dá uma olhada a olho nu no arquivo, nos\n",
    "# limites, etc. As soluções serão ad hoc.\n",
    "ocf_ati = pd.read_excel('../../data/fscore/cash_op_mensal_ativas.xlsx',\n",
    "                            skiprows = [1,2],\n",
    "                            header=1,\n",
    "                            index_col = 0,\n",
    "                            na_values='-')\n",
    "ocf_can = pd.read_excel('../../data/fscore/cash_op_mensal_canceladas.xlsx',\n",
    "                            skiprows = [1,2],\n",
    "                            header=1,\n",
    "                            index_col = 0,\n",
    "                            na_values='-')\n",
    "ocf_ati.drop([\"Jan-86\", \"Feb-86\"], inplace=True)\n",
    "ocf = pd.concat([ocf_ati,ocf_can],axis=1,sort=False)\n",
    "ocf = org_columns(ocf)"
   ]
  },
  {
   "cell_type": "code",
   "execution_count": null,
   "metadata": {},
   "outputs": [],
   "source": [
    "# 3) Return on Assets (ROA%) for latest FY is > FY prior = Score 1\n",
    "# 3) Change in Return on Assets\n",
    "# Basta usar dados anteriores"
   ]
  },
  {
   "cell_type": "code",
   "execution_count": null,
   "metadata": {},
   "outputs": [],
   "source": [
    "# 4) Operating Cash Flow for latest FY is > Net Income (before extraordinary items) for latest FY = Score 1\n",
    "# 4) Accruals - accs\n",
    "# Na verdade, Accruals pode ser estimado como\n",
    "# Accruals = NI - Operating Cash Flows\n",
    "# Um accrual negativo seria bom, devido à quality of earnings\n",
    "# Na verdade não vou usar accruals, mas apenas testar se Operating Cash Flow > NI\n",
    "# Operating Cash Flow já temos falta NI"
   ]
  },
  {
   "cell_type": "code",
   "execution_count": 46,
   "metadata": {},
   "outputs": [],
   "source": [
    "# Net Income - ni\n",
    "ni_ati = pd.read_excel('../../data/fscore/net_income_mensal_ativas.xlsx',\n",
    "                            skiprows = [1,2],\n",
    "                            header=1,\n",
    "                            index_col = 0,\n",
    "                            na_values='-')\n",
    "ni_can = pd.read_excel('../../data/fscore/net_income_mensal_canceladas.xlsx',\n",
    "                            skiprows = [1,2],\n",
    "                            header=1,\n",
    "                            index_col = 0,\n",
    "                            na_values='-')\n",
    "ni_can.drop([\"Jan-86\", \"Feb-86\"], inplace=True)\n",
    "ni = pd.concat([ni_ati,ni_can],axis=1,sort=False)\n",
    "ni = org_columns(ni)"
   ]
  },
  {
   "cell_type": "code",
   "execution_count": null,
   "metadata": {},
   "outputs": [],
   "source": [
    "# 5) Long-term Debt to asset growth over 1 year is < 0 = Score 1\n",
    "# Precisarei de Long-term Debt e de Total Assets"
   ]
  },
  {
   "cell_type": "code",
   "execution_count": 48,
   "metadata": {},
   "outputs": [],
   "source": [
    "# Long-term Debt - ltd\n",
    "ltd_ati = pd.read_excel('../../data/fscore/total_debt_LT_mensal_ativas.xlsx',\n",
    "                            skiprows = [1,2],\n",
    "                            header=1,\n",
    "                            index_col = 0,\n",
    "                            na_values='-')\n",
    "ltd_can = pd.read_excel('../../data/fscore/total_debt_LT_mensal_canceladas.xlsx',\n",
    "                            skiprows = [1,2],\n",
    "                            header=1,\n",
    "                            index_col = 0,\n",
    "                            na_values='-')\n",
    "ltd_can.drop([\"Jan-86\", \"Feb-86\"], inplace=True)\n",
    "ltd = pd.concat([ltd_ati,ltd_can],axis=1,sort=False)\n",
    "ltd = org_columns(ltd)"
   ]
  },
  {
   "cell_type": "code",
   "execution_count": 50,
   "metadata": {},
   "outputs": [],
   "source": [
    "# Total Assets - ta\n",
    "ta_ati = pd.read_excel('../../data/fscore/total_assets_mensal_ativas.xlsx',\n",
    "                            skiprows = [1,2],\n",
    "                            header=1,\n",
    "                            index_col = 0,\n",
    "                            na_values='-')\n",
    "ta_can = pd.read_excel('../../data/fscore/total_assets_mensal_cancelandas.xlsx',\n",
    "                            skiprows = [1,2],\n",
    "                            header=1,\n",
    "                            index_col = 0,\n",
    "                            na_values='-')\n",
    "ta_can.drop([\"Jan-86\", \"Feb-86\"], inplace=True)\n",
    "ta = pd.concat([ta_ati,ta_can],axis=1,sort=False)\n",
    "ta = org_columns(ta)"
   ]
  },
  {
   "cell_type": "code",
   "execution_count": 51,
   "metadata": {},
   "outputs": [],
   "source": [
    "# Long-term Debt to asset\n",
    "ltdta = ltd.div(ta)"
   ]
  },
  {
   "cell_type": "code",
   "execution_count": null,
   "metadata": {},
   "outputs": [],
   "source": [
    "# 6) Current Ratio Growth\n",
    "# 6) Current Ratio growth over 1 year is > 0 = Score 1"
   ]
  },
  {
   "cell_type": "code",
   "execution_count": 54,
   "metadata": {},
   "outputs": [],
   "source": [
    "# Current Ratio - cr\n",
    "cr_ati = pd.read_excel('../../data/fscore/current_ratio_mensal_ativas.xlsx',\n",
    "                            skiprows = [1,2],\n",
    "                            header=1,\n",
    "                            index_col = 0,\n",
    "                            na_values='-')\n",
    "cr_can = pd.read_excel('../../data/fscore/current_ratio_mensal_canceladas.xlsx',\n",
    "                            skiprows = [1,2],\n",
    "                            header=1,\n",
    "                            index_col = 0,\n",
    "                            na_values='-')\n",
    "cr_can.drop([\"Jan-86\", \"Feb-86\"], inplace=True)\n",
    "cr = pd.concat([cr_ati,cr_can],axis=1,sort=False)\n",
    "cr = org_columns(cr)"
   ]
  },
  {
   "cell_type": "code",
   "execution_count": 56,
   "metadata": {},
   "outputs": [],
   "source": [
    "# 7) Number of Shares - ns\n",
    "# 7) No New Shares Issues in the preceding FY = Score 1\n",
    "ns_ati = pd.read_excel('../../data/fscore/number_shares_mensal_ativas.xlsx',\n",
    "                            skiprows = [1,2],\n",
    "                            header=1,\n",
    "                            index_col = 0,\n",
    "                            na_values='-')\n",
    "ns_can = pd.read_excel('../../data/fscore/number_shares_mensal_canceladas.xlsx',\n",
    "                            skiprows = [1,2],\n",
    "                            header=1,\n",
    "                            index_col = 0,\n",
    "                            na_values='-')\n",
    "ns_can.drop([\"Jan-86\", \"Feb-86\"], inplace=True)\n",
    "ns = pd.concat([ns_ati,ns_can],axis=1,sort=False)\n",
    "ns.columns = ns.columns.str.extract('(.*)$')[0]\n",
    "ns.columns.name = \"ticker\"\n",
    "ns.drop([\"Oct-19\"], inplace=True)"
   ]
  },
  {
   "cell_type": "code",
   "execution_count": 58,
   "metadata": {},
   "outputs": [],
   "source": [
    "# 8) Gross Margin - gm\n",
    "# 8) Gross Margin growth over 1 year is > 0 = Score 1\n",
    "gm_ati = pd.read_excel('../../data/fscore/gross_margin_mensal_ativas.xlsx',\n",
    "                            skiprows = [1,2],\n",
    "                            header=1,\n",
    "                            index_col = 0,\n",
    "                            na_values='-')\n",
    "gm_can = pd.read_excel('../../data/fscore/gross_margin_mensal_canceladas.xlsx',\n",
    "                            skiprows = [1,2],\n",
    "                            header=1,\n",
    "                            index_col = 0,\n",
    "                            na_values='-')\n",
    "gm_can.drop([\"Jan-86\", \"Feb-86\"], inplace=True)\n",
    "gm = pd.concat([gm_ati,gm_can],axis=1,sort=False)\n",
    "gm = org_columns(gm)"
   ]
  },
  {
   "cell_type": "code",
   "execution_count": 61,
   "metadata": {},
   "outputs": [],
   "source": [
    "# 9) Asset Turnover - at\n",
    "# 9) Asset Turnover growth over 1 year is > 0 = Score 1\n",
    "at_ati = pd.read_excel('../../data/fscore/asset_turnover_mensal_ativas.xlsx',\n",
    "                            skiprows = [1,2],\n",
    "                            header=1,\n",
    "                            index_col = 0,\n",
    "                            na_values='-')\n",
    "at_can = pd.read_excel('../../data/fscore/asset_turnover_mensal_canceladas.xlsx',\n",
    "                            skiprows = [1,2],\n",
    "                            header=1,\n",
    "                            index_col = 0,\n",
    "                            na_values='-')\n",
    "at_can.drop([\"Jan-86\", \"Feb-86\"], inplace=True)\n",
    "at = pd.concat([at_ati,at_can],axis=1,sort=False)\n",
    "at = org_columns(at)"
   ]
  },
  {
   "cell_type": "code",
   "execution_count": 25,
   "metadata": {},
   "outputs": [
    {
     "name": "stdout",
     "output_type": "stream",
     "text": [
      "total:  521482\n",
      "ltd: 340794\n",
      "ta: 325415\n",
      "ltdta: 340914\n"
     ]
    }
   ],
   "source": [
    "print(\"total: \", ltd.size)\n",
    "print(\"ltd:\",ltd.isnull().sum().sum())\n",
    "print(\"ta:\",ta.isnull().sum().sum())\n",
    "print(\"ltdta:\",ltdta.isnull().sum().sum())"
   ]
  },
  {
   "cell_type": "code",
   "execution_count": null,
   "metadata": {},
   "outputs": [],
   "source": [
    "# Uma pergunta que devemos nos fazer é se a carteira vai ser renovada de trimestre a trimestre ou mês a mês\n",
    "# Vou fazer rodando só no final de ano"
   ]
  }
 ],
 "metadata": {
  "kernelspec": {
   "display_name": "Python 3",
   "language": "python",
   "name": "python3"
  },
  "language_info": {
   "codemirror_mode": {
    "name": "ipython",
    "version": 3
   },
   "file_extension": ".py",
   "mimetype": "text/x-python",
   "name": "python",
   "nbconvert_exporter": "python",
   "pygments_lexer": "ipython3",
   "version": "3.7.1"
  }
 },
 "nbformat": 4,
 "nbformat_minor": 2
}
