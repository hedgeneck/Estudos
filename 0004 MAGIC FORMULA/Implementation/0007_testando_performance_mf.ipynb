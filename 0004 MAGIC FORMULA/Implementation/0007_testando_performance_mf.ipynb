{
 "cells": [
  {
   "cell_type": "code",
   "execution_count": null,
   "metadata": {},
   "outputs": [],
   "source": [
    "# O objetivo aqui vai ser arrumar os dados para backtest"
   ]
  },
  {
   "cell_type": "code",
   "execution_count": 1,
   "metadata": {},
   "outputs": [],
   "source": [
    "import pandas as pd\n",
    "import numpy as np\n",
    "# https://jupyter-notebook.readthedocs.io/en/stable/examples/Notebook/Working%20With%20Markdown%20Cells.html"
   ]
  },
  {
   "cell_type": "code",
   "execution_count": null,
   "metadata": {},
   "outputs": [],
   "source": [
    "# Algumas questões sobre markdown\n",
    "# https://tex.stackexchange.com/questions/130510/write-text-correctly-in-equations #\\mathrm and its friends\n",
    "# https://jupyter-notebook.readthedocs.io/en/stable/examples/Notebook/Working%20With%20Markdown%20Cells.html\n",
    "# https://www.ibm.com/support/knowledgecenter/en/SSGNPV_1.1.3/dsx/markd-jupyter.html"
   ]
  },
  {
   "cell_type": "markdown",
   "metadata": {},
   "source": [
    "The magic formula ranks companies based on two factors: return on capital and earnings yield.\n",
    "\n",
    "#### Return on Capital\n",
    "$\\textrm{ROC} = \\textrm{EBIT}/\\textrm{(Net Working Capital + Net Fixed Assets)}$\n",
    "\n",
    "$\\begin{split}\n",
    "\\textrm{Net Fixed Assets} & = \\textrm{Total Assets} \\\\\n",
    " & - \\textrm{Total Current Assets} \\\\\n",
    " & - \\textrm{Total Intangibles & Goodwill}\n",
    "\\end{split}$\n",
    "\n",
    "#### Earnings yield\n",
    "$\\textrm{Earnings Yield} = \\textrm{EBIT} / \\textrm{Enterprise Value}$\n",
    "\n",
    "$\\begin{split}\n",
    "\\textrm{Enterprise Value} & = \\textrm{Market Value of Equity} \\\\\n",
    " & + \\textrm{Net Interest-Bearing Debt}\n",
    "\\end{split}$"
   ]
  },
  {
   "cell_type": "code",
   "execution_count": 2,
   "metadata": {},
   "outputs": [],
   "source": [
    "def org_columns(df):\n",
    "    '''\n",
    "    Organiza os dataframes com fundamentos:\n",
    "        Renomeia columns\n",
    "        Seleciona apenas tickers de interesse\n",
    "    '''\n",
    "    tickers = df.columns.str.extract('(.*)$')[0]\n",
    "    df.columns = tickers\n",
    "    on = tickers[tickers.str.contains('.\\D3$')]\n",
    "    pn = tickers[tickers.str.contains('.\\D4$')]\n",
    "    sto_tick = pd.concat([on, pn], ignore_index=True)\n",
    "    df = df[sto_tick]\n",
    "    df = df[df.index.str.contains(\"Mar|Jun|Sep|Dec\")]\n",
    "    df.columns.name = \"ticker\"\n",
    "    return df"
   ]
  },
  {
   "cell_type": "code",
   "execution_count": 3,
   "metadata": {},
   "outputs": [],
   "source": [
    "# EBIT\n",
    "ebit_ati = pd.read_excel('../../data/economatica_1/ebit_mensal__ativas.xlsx',\n",
    "                            skiprows = [1,2],\n",
    "                            header=1,\n",
    "                            index_col = 0,\n",
    "                            na_values='-')\n",
    "ebit_can = pd.read_excel('../../data/economatica_1/ebit_mensal_canceladas.xlsx',\n",
    "                            skiprows = [1,2],\n",
    "                            header=1,\n",
    "                            index_col = 0,\n",
    "                            na_values='-')\n",
    "ebit_can.drop([\"Jan-86\", \"Feb-86\"], inplace=True)\n",
    "\n",
    "ebit = pd.concat([ebit_ati,ebit_can],axis=1,sort=False)\n",
    "ebit = org_columns(ebit)"
   ]
  },
  {
   "cell_type": "code",
   "execution_count": 4,
   "metadata": {},
   "outputs": [],
   "source": [
    "# Net Working Capital\n",
    "nwc_ati = pd.read_excel('../../data/economatica_1/working_capital_mensal_ativas.xlsx',\n",
    "                            skiprows = [1,2],\n",
    "                            header=1,\n",
    "                            index_col = 0,\n",
    "                            na_values='-')\n",
    "nwc_can = pd.read_excel('../../data/economatica_1/working_capital_mensal_canceladas.xlsx',\n",
    "                            skiprows = [1,2],\n",
    "                            header=1,\n",
    "                            index_col = 0,\n",
    "                            na_values='-')\n",
    "nwc_can.drop([\"Jan-86\", \"Feb-86\"], inplace=True)\n",
    "\n",
    "nwc = pd.concat([ebit_ati,ebit_can],axis=1,sort=False)\n",
    "nwc = org_columns(nwc)"
   ]
  },
  {
   "cell_type": "code",
   "execution_count": 5,
   "metadata": {},
   "outputs": [],
   "source": [
    "# Total Assets\n",
    "ta_ati = pd.read_excel('../../data/economatica_1/total_assets_mensal_ativas.xlsx',\n",
    "                            skiprows = [1,2],\n",
    "                            header=1,\n",
    "                            index_col = 0,\n",
    "                            na_values='-')\n",
    "ta_can = pd.read_excel('../../data/economatica_1/total_assets_mensal_canceladas.xlsx',\n",
    "                            skiprows = [1,2],\n",
    "                            header=1,\n",
    "                            index_col = 0,\n",
    "                            na_values='-')\n",
    "ta_can.drop([\"Jan-86\", \"Feb-86\"], inplace=True)\n",
    "\n",
    "ta = pd.concat([ta_ati,ta_can],axis=1,sort=False)\n",
    "ta = org_columns(ta)"
   ]
  },
  {
   "cell_type": "code",
   "execution_count": 6,
   "metadata": {},
   "outputs": [],
   "source": [
    "# Ativo Circulante\n",
    "ac_ati = pd.read_excel('../../data/economatica_1/ativo_circulante_mensal_ativas.xlsx',\n",
    "                            skiprows = [1,2],\n",
    "                            header=1,\n",
    "                            index_col = 0,\n",
    "                            na_values='-')\n",
    "ac_can = pd.read_excel('../../data/economatica_1/ativo_circulante_mensal_canceladas.xlsx',\n",
    "                            skiprows = [1,2],\n",
    "                            header=1,\n",
    "                            index_col = 0,\n",
    "                            na_values='-')\n",
    "ac_can.drop([\"Jan-86\", \"Feb-86\"], inplace=True)\n",
    "\n",
    "ac = pd.concat([ac_ati,ac_can],axis=1,sort=False)\n",
    "ac = org_columns(ac)"
   ]
  },
  {
   "cell_type": "code",
   "execution_count": 7,
   "metadata": {},
   "outputs": [],
   "source": [
    "# Passivo Circulante\n",
    "pc_ati = pd.read_excel('../../data/economatica_1/passivo_circulante_mensal_ativas.xlsx',\n",
    "                            skiprows = [1,2],\n",
    "                            header=1,\n",
    "                            index_col = 0,\n",
    "                            na_values='-')\n",
    "pc_can = pd.read_excel('../../data/economatica_1/passivo_circulante_mensal_canceladas.xlsx',\n",
    "                            skiprows = [1,2],\n",
    "                            header=1,\n",
    "                            index_col = 0,\n",
    "                            na_values='-')\n",
    "pc_can.drop([\"Jan-86\", \"Feb-86\"], inplace=True)\n",
    "\n",
    "pc = pd.concat([pc_ati,pc_can],axis=1,sort=False)\n",
    "pc = org_columns(pc)"
   ]
  },
  {
   "cell_type": "code",
   "execution_count": 8,
   "metadata": {},
   "outputs": [],
   "source": [
    "# Total Current Assets\n",
    "tca = ac - pc"
   ]
  },
  {
   "cell_type": "code",
   "execution_count": 9,
   "metadata": {},
   "outputs": [],
   "source": [
    "# Goodwill\n",
    "gw_ati = pd.read_excel('../../data/economatica_1/goodwill_mensal_ativas.xlsx',\n",
    "                            skiprows = [1,2],\n",
    "                            header=1,\n",
    "                            index_col = 0,\n",
    "                            na_values='-')\n",
    "gw_can = pd.read_excel('../../data/economatica_1/goodwill_mensal_canceladas.xlsx',\n",
    "                            skiprows = [1,2],\n",
    "                            header=1,\n",
    "                            index_col = 0,\n",
    "                            na_values='-')\n",
    "# pc_can.drop([\"Jan-86\", \"Feb-86\"], inplace=True)\n",
    "\n",
    "gw = pd.concat([gw_ati,gw_can],axis=1,sort=False)\n",
    "gw = org_columns(gw)"
   ]
  },
  {
   "cell_type": "code",
   "execution_count": 55,
   "metadata": {},
   "outputs": [
    {
     "data": {
      "text/plain": [
       "2"
      ]
     },
     "execution_count": 55,
     "metadata": {},
     "output_type": "execute_result"
    }
   ],
   "source": [
    "x = gw.loc[\"Mar-19\"]\n",
    "y = ~x.isnull()\n",
    "y.sum()"
   ]
  },
  {
   "cell_type": "code",
   "execution_count": 56,
   "metadata": {},
   "outputs": [],
   "source": [
    "# Net Fixed Assets\n",
    "nfa = ta - tca - gw"
   ]
  },
  {
   "cell_type": "code",
   "execution_count": 12,
   "metadata": {},
   "outputs": [],
   "source": [
    "# Market Value of Equity\n",
    "mve_ati = pd.read_excel('../../data/economatica_1/valor_mercado_mensal_ativas.xlsx',\n",
    "                            skiprows = [1,2],\n",
    "                            header=1,\n",
    "                            index_col = 0,\n",
    "                            na_values='-')\n",
    "mve_can = pd.read_excel('../../data/economatica_1/valor_mercado_mensal_canceladas.xlsx',\n",
    "                            skiprows = [1,2],\n",
    "                            header=1,\n",
    "                            index_col = 0,\n",
    "                            na_values='-')\n",
    "mve_can.drop([\"Jan-86\", \"Feb-86\"], inplace=True)\n",
    "\n",
    "mve = pd.concat([mve_ati,mve_can],axis=1,sort=False)\n",
    "mve = org_columns(mve)"
   ]
  },
  {
   "cell_type": "code",
   "execution_count": 13,
   "metadata": {},
   "outputs": [],
   "source": [
    "# Net Interest-Bearing Debt\n",
    "nibd_ati = pd.read_excel('../../data/economatica_1/net_debt_mensal_ativas.xlsx',\n",
    "                            skiprows = [1,2],\n",
    "                            header=1,\n",
    "                            index_col = 0,\n",
    "                            na_values='-')\n",
    "nibd_can = pd.read_excel('../../data/economatica_1/net_debt_mensal_canceladas.xlsx',\n",
    "                            skiprows = [1,2],\n",
    "                            header=1,\n",
    "                            index_col = 0,\n",
    "                            na_values='-')\n",
    "nibd_can.drop([\"Jan-86\", \"Feb-86\"], inplace=True)\n",
    "\n",
    "nibd = pd.concat([nibd_ati,nibd_can],axis=1,sort=False)\n",
    "nibd = org_columns(nibd)"
   ]
  },
  {
   "cell_type": "code",
   "execution_count": 14,
   "metadata": {},
   "outputs": [],
   "source": [
    "# Enterprise Level\n",
    "ev = mve + nibd"
   ]
  },
  {
   "cell_type": "code",
   "execution_count": 11,
   "metadata": {},
   "outputs": [],
   "source": [
    "# Return on Capital (ROC)\n",
    "roc = ebit / (nwc + nfa)"
   ]
  },
  {
   "cell_type": "code",
   "execution_count": 15,
   "metadata": {},
   "outputs": [],
   "source": [
    "# Earnings Yield\n",
    "ey = ebit/ev"
   ]
  },
  {
   "cell_type": "code",
   "execution_count": 38,
   "metadata": {},
   "outputs": [],
   "source": [
    "# ey.loc[\"Mar-18\"]\n",
    "ey_ = ey.loc[\"Sep-19\"]\n",
    "roc_ = roc.loc[\"Mar-19\"]"
   ]
  },
  {
   "cell_type": "code",
   "execution_count": 36,
   "metadata": {
    "scrolled": true
   },
   "outputs": [
    {
     "data": {
      "text/plain": [
       "ticker\n",
       "AALR3   NaN\n",
       "ABCB3   NaN\n",
       "ABCB4   NaN\n",
       "ABEV3   NaN\n",
       "ABYA3   NaN\n",
       "ACES3   NaN\n",
       "ACES4   NaN\n",
       "ACGU3   NaN\n",
       "ADHM3   NaN\n",
       "AEDU3   NaN\n",
       "AEDU4   NaN\n",
       "AELP3   NaN\n",
       "AESL3   NaN\n",
       "AESL4   NaN\n",
       "AETA3   NaN\n",
       "AFLT3   NaN\n",
       "AFLU3   NaN\n",
       "AGEI3   NaN\n",
       "AGIN3   NaN\n",
       "AGRA4   NaN\n",
       "AGRO3   NaN\n",
       "AHEB3   NaN\n",
       "ALBA3   NaN\n",
       "ALLL3   NaN\n",
       "ALLL4   NaN\n",
       "ALPA3   NaN\n",
       "ALPA4   NaN\n",
       "ALSC3   NaN\n",
       "ALSO3   NaN\n",
       "ALTR3   NaN\n",
       "         ..\n",
       "VLID3   NaN\n",
       "VPSC3   NaN\n",
       "VPSC4   NaN\n",
       "VPTA3   NaN\n",
       "VPTA4   NaN\n",
       "VRLM4   NaN\n",
       "VSMA3   NaN\n",
       "VTEC4   NaN\n",
       "VULC3   NaN\n",
       "VULC4   NaN\n",
       "VVAR3   NaN\n",
       "VVAR4   NaN\n",
       "VVAX3   NaN\n",
       "VVAX4   NaN\n",
       "WEGE3   NaN\n",
       "WEGE4   NaN\n",
       "WET4    NaN\n",
       "WHMT3   NaN\n",
       "WHRL3   NaN\n",
       "WHRL4   NaN\n",
       "WISA3   NaN\n",
       "WISA4   NaN\n",
       "WIZS3   NaN\n",
       "WLMM3   NaN\n",
       "WLMM4   NaN\n",
       "WMBY3   NaN\n",
       "WMBY4   NaN\n",
       "WWOW3   NaN\n",
       "YDUQ3   NaN\n",
       "ZIVI4   NaN\n",
       "Name: Sep-19, Length: 999, dtype: float64"
      ]
     },
     "execution_count": 36,
     "metadata": {},
     "output_type": "execute_result"
    }
   ],
   "source": [
    "roc_.sort_values(ascending=False)"
   ]
  },
  {
   "cell_type": "code",
   "execution_count": 45,
   "metadata": {},
   "outputs": [],
   "source": [
    "# criar df com dictionary e um index e usar expressões lógicas\n",
    "df1 = pd.DataFrame({'A': [12, 44, 17, 1],\n",
    "                    'B': [4, 8, 100, -3],\n",
    "                    'C': [47, 68, 52, 1],\n",
    "                    'D': [0, 0, 0, 0]},\n",
    "                    index=[0, 1, 2, 3])\n",
    "df2 = pd.DataFrame({'A': [1, 2, 3, 4],\n",
    "                    'B': [-10, 4, 5, 13],\n",
    "                    'C': [12, 23, 10, 100],\n",
    "                    'D': [1, 1, 1, 1]},\n",
    "                    index=[0, 1, 2, 3])\n",
    "df3 = pd.DataFrame({'A': [1, 2, 3, 4],\n",
    "                    'B': [-10, np.nan, 5, 13],\n",
    "                    'C': [np.nan, 23, 10, 100],\n",
    "                    'D': [1, 1, 1, 1]},\n",
    "                    index=[0, 1, 2, 3])"
   ]
  }
 ],
 "metadata": {
  "kernelspec": {
   "display_name": "Python 3",
   "language": "python",
   "name": "python3"
  },
  "language_info": {
   "codemirror_mode": {
    "name": "ipython",
    "version": 3
   },
   "file_extension": ".py",
   "mimetype": "text/x-python",
   "name": "python",
   "nbconvert_exporter": "python",
   "pygments_lexer": "ipython3",
   "version": "3.7.1"
  }
 },
 "nbformat": 4,
 "nbformat_minor": 2
}
